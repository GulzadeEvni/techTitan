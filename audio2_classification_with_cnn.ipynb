{
  "nbformat": 4,
  "nbformat_minor": 0,
  "metadata": {
    "colab": {
      "provenance": [],
      "gpuType": "T4"
    },
    "kernelspec": {
      "name": "python3",
      "display_name": "Python 3"
    },
    "language_info": {
      "name": "python"
    },
    "accelerator": "GPU"
  },
  "cells": [
    {
      "cell_type": "code",
      "execution_count": null,
      "metadata": {
        "id": "0mAWzgeS4Xen"
      },
      "outputs": [],
      "source": [
        "!pip install opendatasets"
      ]
    },
    {
      "cell_type": "code",
      "source": [
        "import pandas as pd\n",
        "import opendatasets as od"
      ],
      "metadata": {
        "id": "mhVjLbit5-fg"
      },
      "execution_count": null,
      "outputs": []
    },
    {
      "cell_type": "code",
      "source": [
        "od.download(\n",
        "    \"https://www.kaggle.com/datasets/birdy654/deep-voice-deepfake-voice-recognition\")"
      ],
      "metadata": {
        "colab": {
          "base_uri": "https://localhost:8080/"
        },
        "id": "tAtxtW1u6GXO",
        "outputId": "a6d25af0-c85a-47ba-b748-783996ea54fa"
      },
      "execution_count": null,
      "outputs": [
        {
          "output_type": "stream",
          "name": "stdout",
          "text": [
            "Please provide your Kaggle credentials to download this dataset. Learn more: http://bit.ly/kaggle-creds\n",
            "Your Kaggle username: glzadeevni\n",
            "Your Kaggle Key: ··········\n",
            "Downloading deep-voice-deepfake-voice-recognition.zip to ./deep-voice-deepfake-voice-recognition\n"
          ]
        },
        {
          "output_type": "stream",
          "name": "stderr",
          "text": [
            "100%|██████████| 3.69G/3.69G [00:31<00:00, 126MB/s] \n"
          ]
        },
        {
          "output_type": "stream",
          "name": "stdout",
          "text": [
            "\n"
          ]
        }
      ]
    },
    {
      "cell_type": "code",
      "source": [
        "import json\n",
        "import os\n",
        "import math\n",
        "import librosa"
      ],
      "metadata": {
        "id": "3bU8ANt_z_Hb"
      },
      "execution_count": null,
      "outputs": []
    },
    {
      "cell_type": "code",
      "source": [
        "\n",
        "DATASET_PATH = \"/content/drive/MyDrive/deep-voice-deepfake-voice-recognition/KAGGLE/AUDIO\"\n",
        "JSON_PATH = \"new_data.json\"\n",
        "SAMPLE_RATE = 22050\n",
        "TRACK_DURATION = 30 # measured in seconds\n",
        "SAMPLES_PER_TRACK = SAMPLE_RATE * TRACK_DURATION\n",
        "\n",
        "\n",
        "def save_mfcc(dataset_path, json_path, num_mfcc=13, n_fft=2048, hop_length=512, num_segments=5):\n",
        "\n",
        "    # dictionary to store mapping, labels, and MFCCs\n",
        "    data = {\n",
        "        \"mapping\": [],\n",
        "        \"labels\": [],\n",
        "        \"mfcc\": []\n",
        "    }\n",
        "\n",
        "    samples_per_segment = int(SAMPLES_PER_TRACK / num_segments)\n",
        "    num_mfcc_vectors_per_segment = math.ceil(samples_per_segment / hop_length)\n",
        "\n",
        "    # loop through all genre sub-folder\n",
        "    for i, (dirpath, dirnames, filenames) in enumerate(os.walk(dataset_path)):\n",
        "\n",
        "        # ensure we're processing a genre sub-folder level\n",
        "        if dirpath is not dataset_path:\n",
        "\n",
        "            # save genre label (i.e., sub-folder name) in the mapping\n",
        "            semantic_label = dirpath.split(\"/\")[-1]\n",
        "            data[\"mapping\"].append(semantic_label)\n",
        "            print(\"\\nProcessing: {}\".format(semantic_label))\n",
        "\n",
        "            # process all audio files in genre sub-dir\n",
        "            for f in filenames:\n",
        "\n",
        "\t\t# load audio file\n",
        "                file_path = os.path.join(dirpath, f)\n",
        "                signal, sample_rate = librosa.load(file_path, sr=SAMPLE_RATE)\n",
        "\n",
        "                # process all segments of audio file\n",
        "                for d in range(num_segments):\n",
        "\n",
        "                    # calculate start and finish sample for current segment\n",
        "                    start = samples_per_segment * d\n",
        "                    finish = start + samples_per_segment\n",
        "\n",
        "                    # extract mfcc\n",
        "                    mfcc = librosa.feature.mfcc(y=signal[start:finish], sr=sample_rate, n_mfcc=num_mfcc, n_fft=n_fft, hop_length=hop_length)\n",
        "                    mfcc = mfcc.T\n",
        "\n",
        "                    # store only mfcc feature with expected number of vectors\n",
        "                    if len(mfcc) == num_mfcc_vectors_per_segment:\n",
        "                        data[\"mfcc\"].append(mfcc.tolist())\n",
        "                        data[\"labels\"].append(i-1)\n",
        "                        print(\"{}, segment:{}\".format(file_path, d+1))\n",
        "\n",
        "    # save MFCCs to json file\n",
        "    with open(json_path, \"w\") as fp:\n",
        "        json.dump(data, fp, indent=4)\n",
        "\n",
        "\n"
      ],
      "metadata": {
        "id": "0lq_ZvnEzzyz"
      },
      "execution_count": null,
      "outputs": []
    },
    {
      "cell_type": "code",
      "source": [
        "if __name__ == \"__main__\":\n",
        "    save_mfcc(DATASET_PATH, JSON_PATH, num_segments=10)\n"
      ],
      "metadata": {
        "id": "UaPL-6eKz1x6"
      },
      "execution_count": null,
      "outputs": []
    },
    {
      "cell_type": "code",
      "source": [
        "import numpy as np\n",
        "from sklearn.model_selection import train_test_split\n",
        "import tensorflow.keras as keras\n",
        "import matplotlib.pyplot as plt"
      ],
      "metadata": {
        "id": "pG7eKHV62mzz"
      },
      "execution_count": null,
      "outputs": []
    },
    {
      "cell_type": "code",
      "source": [
        "\n",
        "\n",
        "DATA_PATH = \"/content/new_data.json\"\n",
        "\n",
        "\n",
        "def load_data(data_path):\n",
        "\n",
        "    with open(data_path, \"r\") as fp:\n",
        "        data = json.load(fp)\n",
        "\n",
        "    X = np.array(data[\"mfcc\"])\n",
        "    y = np.array(data[\"labels\"])\n",
        "    return X, y\n",
        "\n",
        "\n",
        "def plot_history(history):\n",
        "\n",
        "    fig, axs = plt.subplots(2)\n",
        "\n",
        "    # create accuracy sublpot\n",
        "    axs[0].plot(history.history[\"accuracy\"], label=\"train accuracy\")\n",
        "    axs[0].plot(history.history[\"val_accuracy\"], label=\"test accuracy\")\n",
        "    axs[0].set_ylabel(\"Accuracy\")\n",
        "    axs[0].legend(loc=\"lower right\")\n",
        "    axs[0].set_title(\"Accuracy eval\")\n",
        "\n",
        "    # create error sublpot\n",
        "    axs[1].plot(history.history[\"loss\"], label=\"train error\")\n",
        "    axs[1].plot(history.history[\"val_loss\"], label=\"test error\")\n",
        "    axs[1].set_ylabel(\"Error\")\n",
        "    axs[1].set_xlabel(\"Epoch\")\n",
        "    axs[1].legend(loc=\"upper right\")\n",
        "    axs[1].set_title(\"Error eval\")\n",
        "\n",
        "    plt.show()\n",
        "\n",
        "\n",
        "def prepare_datasets(test_size, validation_size):\n",
        "\n",
        "    # load data\n",
        "    X, y = load_data(DATA_PATH)\n",
        "\n",
        "    # create train, validation and test split\n",
        "    X_train, X_test, y_train, y_test = train_test_split(X, y, test_size=test_size)\n",
        "    X_train, X_validation, y_train, y_validation = train_test_split(X_train, y_train, test_size=validation_size)\n",
        "\n",
        "    # add an axis to input sets\n",
        "    X_train = X_train[..., np.newaxis]\n",
        "    X_validation = X_validation[..., np.newaxis]\n",
        "    X_test = X_test[..., np.newaxis]\n",
        "\n",
        "    return X_train, X_validation, X_test, y_train, y_validation, y_test\n",
        "\n",
        "\n",
        "def build_model(input_shape):\n",
        "\n",
        "    # build network topology\n",
        "    model = keras.Sequential()\n",
        "\n",
        "    # 1st conv layer\n",
        "    model.add(keras.layers.Conv2D(32, (3, 3), activation='relu', input_shape=input_shape))\n",
        "    model.add(keras.layers.MaxPooling2D((3, 3), strides=(2, 2), padding='same'))\n",
        "    model.add(keras.layers.BatchNormalization())\n",
        "\n",
        "    # 2nd conv layer\n",
        "    model.add(keras.layers.Conv2D(32, (3, 3), activation='relu'))\n",
        "    model.add(keras.layers.MaxPooling2D((3, 3), strides=(2, 2), padding='same'))\n",
        "    model.add(keras.layers.BatchNormalization())\n",
        "\n",
        "    # 3rd conv layer\n",
        "    model.add(keras.layers.Conv2D(32, (2, 2), activation='relu'))\n",
        "    model.add(keras.layers.MaxPooling2D((2, 2), strides=(2, 2), padding='same'))\n",
        "    model.add(keras.layers.BatchNormalization())\n",
        "\n",
        "    # flatten output and feed it into dense layer\n",
        "    model.add(keras.layers.Flatten())\n",
        "    model.add(keras.layers.Dense(64, activation='relu'))\n",
        "    model.add(keras.layers.Dropout(0.3))\n",
        "\n",
        "    # output layer\n",
        "    model.add(keras.layers.Dense(2, activation='softmax'))\n",
        "\n",
        "    return model\n",
        "\n",
        "\n",
        "def predict(model, X, y):\n",
        "\n",
        "    # add a dimension to input data for sample - model.predict() expects a 4d array in this case\n",
        "    X = X[np.newaxis, ...] # array shape (1, 130, 13, 1)\n",
        "\n",
        "    # perform prediction\n",
        "    prediction = model.predict(X)\n",
        "\n",
        "    # get index with max value\n",
        "    predicted_index = np.argmax(prediction, axis=1)\n",
        "\n",
        "    print(\"Target: {}, Predicted label: {}\".format(y, predicted_index))\n"
      ],
      "metadata": {
        "id": "CRmLlPVl2e9T"
      },
      "execution_count": null,
      "outputs": []
    },
    {
      "cell_type": "code",
      "source": [
        "if __name__ == \"__main__\":\n",
        "\n",
        "    # get train, validation, test splits\n",
        "    X_train, X_validation, X_test, y_train, y_validation, y_test = prepare_datasets(0.25, 0.2)\n",
        "\n",
        "    # create network\n",
        "    #input_shape = (X_train.shape[1], X_train.shape[2], 1)\n",
        "    input_shape = (130, 13, 1)\n",
        "    model = build_model(input_shape)\n",
        "\n",
        "    # compile model\n",
        "    optimiser = keras.optimizers.Adam(learning_rate=0.0001)\n",
        "    model.compile(optimizer=optimiser,\n",
        "                  loss='sparse_categorical_crossentropy',\n",
        "                  metrics=['accuracy'])\n",
        "\n",
        "    model.summary()\n",
        "\n",
        "    history = model.fit(X_train, y_train, validation_data=(X_validation, y_validation), batch_size=32, epochs=30)\n",
        "\n",
        "     # plot accuracy/error for training and validation\n",
        "    plot_history(history)\n",
        "\n",
        "    # evaluate model on test set\n",
        "    test_loss, test_acc = model.evaluate(X_test, y_test, verbose=2)\n",
        "    print('\\nTest accuracy:', test_acc)\n",
        "\n",
        "    # pick a sample to predict from the test set\n",
        "    X_to_predict = X_test[100]\n",
        "    y_to_predict = y_test[100]\n",
        "\n",
        "    # predict sample\n",
        "    predict(model, X_to_predict, y_to_predict)\n",
        "\n"
      ],
      "metadata": {
        "id": "ZOFoFhkM2im7",
        "colab": {
          "base_uri": "https://localhost:8080/",
          "height": 1000
        },
        "outputId": "f0db5afc-60e6-4bf9-c6ff-09a33e53e010"
      },
      "execution_count": null,
      "outputs": [
        {
          "output_type": "stream",
          "name": "stdout",
          "text": [
            "Model: \"sequential\"\n",
            "_________________________________________________________________\n",
            " Layer (type)                Output Shape              Param #   \n",
            "=================================================================\n",
            " conv2d (Conv2D)             (None, 128, 11, 32)       320       \n",
            "                                                                 \n",
            " max_pooling2d (MaxPooling2  (None, 64, 6, 32)         0         \n",
            " D)                                                              \n",
            "                                                                 \n",
            " batch_normalization (Batch  (None, 64, 6, 32)         128       \n",
            " Normalization)                                                  \n",
            "                                                                 \n",
            " conv2d_1 (Conv2D)           (None, 62, 4, 32)         9248      \n",
            "                                                                 \n",
            " max_pooling2d_1 (MaxPoolin  (None, 31, 2, 32)         0         \n",
            " g2D)                                                            \n",
            "                                                                 \n",
            " batch_normalization_1 (Bat  (None, 31, 2, 32)         128       \n",
            " chNormalization)                                                \n",
            "                                                                 \n",
            " conv2d_2 (Conv2D)           (None, 30, 1, 32)         4128      \n",
            "                                                                 \n",
            " max_pooling2d_2 (MaxPoolin  (None, 15, 1, 32)         0         \n",
            " g2D)                                                            \n",
            "                                                                 \n",
            " batch_normalization_2 (Bat  (None, 15, 1, 32)         128       \n",
            " chNormalization)                                                \n",
            "                                                                 \n",
            " flatten (Flatten)           (None, 480)               0         \n",
            "                                                                 \n",
            " dense (Dense)               (None, 64)                30784     \n",
            "                                                                 \n",
            " dropout (Dropout)           (None, 64)                0         \n",
            "                                                                 \n",
            " dense_1 (Dense)             (None, 2)                 130       \n",
            "                                                                 \n",
            "=================================================================\n",
            "Total params: 44994 (175.76 KB)\n",
            "Trainable params: 44802 (175.01 KB)\n",
            "Non-trainable params: 192 (768.00 Byte)\n",
            "_________________________________________________________________\n",
            "Epoch 1/30\n",
            "3/3 [==============================] - 7s 188ms/step - loss: 0.8501 - accuracy: 0.5521 - val_loss: 0.8902 - val_accuracy: 0.5417\n",
            "Epoch 2/30\n",
            "3/3 [==============================] - 0s 17ms/step - loss: 0.8361 - accuracy: 0.5625 - val_loss: 0.8429 - val_accuracy: 0.5000\n",
            "Epoch 3/30\n",
            "3/3 [==============================] - 0s 17ms/step - loss: 0.7072 - accuracy: 0.6458 - val_loss: 0.8265 - val_accuracy: 0.5000\n",
            "Epoch 4/30\n",
            "3/3 [==============================] - 0s 16ms/step - loss: 0.6769 - accuracy: 0.6667 - val_loss: 0.8140 - val_accuracy: 0.5000\n",
            "Epoch 5/30\n",
            "3/3 [==============================] - 0s 16ms/step - loss: 0.6154 - accuracy: 0.7083 - val_loss: 0.8103 - val_accuracy: 0.5000\n",
            "Epoch 6/30\n",
            "3/3 [==============================] - 0s 17ms/step - loss: 0.5693 - accuracy: 0.7292 - val_loss: 0.8094 - val_accuracy: 0.5000\n",
            "Epoch 7/30\n",
            "3/3 [==============================] - 0s 21ms/step - loss: 0.5741 - accuracy: 0.6979 - val_loss: 0.8088 - val_accuracy: 0.5000\n",
            "Epoch 8/30\n",
            "3/3 [==============================] - 0s 17ms/step - loss: 0.4927 - accuracy: 0.7396 - val_loss: 0.8070 - val_accuracy: 0.5000\n",
            "Epoch 9/30\n",
            "3/3 [==============================] - 0s 17ms/step - loss: 0.4866 - accuracy: 0.7604 - val_loss: 0.7963 - val_accuracy: 0.5000\n",
            "Epoch 10/30\n",
            "3/3 [==============================] - 0s 16ms/step - loss: 0.4916 - accuracy: 0.7708 - val_loss: 0.7795 - val_accuracy: 0.5000\n",
            "Epoch 11/30\n",
            "3/3 [==============================] - 0s 16ms/step - loss: 0.3630 - accuracy: 0.7812 - val_loss: 0.7653 - val_accuracy: 0.5000\n",
            "Epoch 12/30\n",
            "3/3 [==============================] - 0s 16ms/step - loss: 0.3711 - accuracy: 0.8125 - val_loss: 0.7532 - val_accuracy: 0.5417\n",
            "Epoch 13/30\n",
            "3/3 [==============================] - 0s 18ms/step - loss: 0.3996 - accuracy: 0.8229 - val_loss: 0.7402 - val_accuracy: 0.5417\n",
            "Epoch 14/30\n",
            "3/3 [==============================] - 0s 16ms/step - loss: 0.3561 - accuracy: 0.8646 - val_loss: 0.7271 - val_accuracy: 0.5417\n",
            "Epoch 15/30\n",
            "3/3 [==============================] - 0s 17ms/step - loss: 0.3179 - accuracy: 0.8750 - val_loss: 0.7167 - val_accuracy: 0.5833\n",
            "Epoch 16/30\n",
            "3/3 [==============================] - 0s 17ms/step - loss: 0.3322 - accuracy: 0.8542 - val_loss: 0.7062 - val_accuracy: 0.6250\n",
            "Epoch 17/30\n",
            "3/3 [==============================] - 0s 17ms/step - loss: 0.3197 - accuracy: 0.8750 - val_loss: 0.6952 - val_accuracy: 0.6250\n",
            "Epoch 18/30\n",
            "3/3 [==============================] - 0s 18ms/step - loss: 0.2898 - accuracy: 0.9271 - val_loss: 0.6849 - val_accuracy: 0.6250\n",
            "Epoch 19/30\n",
            "3/3 [==============================] - 0s 18ms/step - loss: 0.2612 - accuracy: 0.9271 - val_loss: 0.6777 - val_accuracy: 0.6667\n",
            "Epoch 20/30\n",
            "3/3 [==============================] - 0s 16ms/step - loss: 0.2971 - accuracy: 0.8646 - val_loss: 0.6718 - val_accuracy: 0.6250\n",
            "Epoch 21/30\n",
            "3/3 [==============================] - 0s 16ms/step - loss: 0.2511 - accuracy: 0.8958 - val_loss: 0.6694 - val_accuracy: 0.5833\n",
            "Epoch 22/30\n",
            "3/3 [==============================] - 0s 16ms/step - loss: 0.1840 - accuracy: 0.9688 - val_loss: 0.6677 - val_accuracy: 0.5833\n",
            "Epoch 23/30\n",
            "3/3 [==============================] - 0s 17ms/step - loss: 0.2511 - accuracy: 0.9062 - val_loss: 0.6633 - val_accuracy: 0.6250\n",
            "Epoch 24/30\n",
            "3/3 [==============================] - 0s 17ms/step - loss: 0.2378 - accuracy: 0.9271 - val_loss: 0.6573 - val_accuracy: 0.6250\n",
            "Epoch 25/30\n",
            "3/3 [==============================] - 0s 16ms/step - loss: 0.1448 - accuracy: 0.9896 - val_loss: 0.6510 - val_accuracy: 0.5833\n",
            "Epoch 26/30\n",
            "3/3 [==============================] - 0s 18ms/step - loss: 0.1861 - accuracy: 0.9479 - val_loss: 0.6459 - val_accuracy: 0.5833\n",
            "Epoch 27/30\n",
            "3/3 [==============================] - 0s 16ms/step - loss: 0.1937 - accuracy: 0.9375 - val_loss: 0.6411 - val_accuracy: 0.5833\n",
            "Epoch 28/30\n",
            "3/3 [==============================] - 0s 17ms/step - loss: 0.2348 - accuracy: 0.8958 - val_loss: 0.6349 - val_accuracy: 0.5833\n",
            "Epoch 29/30\n",
            "3/3 [==============================] - 0s 30ms/step - loss: 0.1562 - accuracy: 0.9896 - val_loss: 0.6296 - val_accuracy: 0.6250\n",
            "Epoch 30/30\n",
            "3/3 [==============================] - 0s 16ms/step - loss: 0.1538 - accuracy: 0.9896 - val_loss: 0.6235 - val_accuracy: 0.6667\n"
          ]
        },
        {
          "output_type": "display_data",
          "data": {
            "text/plain": [
              "<Figure size 640x480 with 2 Axes>"
            ],
            "image/png": "[encoded data removed]"
          },
          "metadata": {}
        },
        {
          "output_type": "stream",
          "name": "stdout",
          "text": [
            "2/2 - 0s - loss: 0.6264 - accuracy: 0.7000 - 224ms/epoch - 112ms/step\n",
            "\n",
            "Test accuracy: 0.699999988079071\n"
          ]
        },
        {
          "output_type": "error",
          "ename": "IndexError",
          "evalue": "index 100 is out of bounds for axis 0 with size 40",
          "traceback": [
            "\u001b[0;31m---------------------------------------------------------------------------\u001b[0m",
            "\u001b[0;31mIndexError\u001b[0m                                Traceback (most recent call last)",
            "\u001b[0;32m<ipython-input-11-31120c83a35f>\u001b[0m in \u001b[0;36m<cell line: 1>\u001b[0;34m()\u001b[0m\n\u001b[1;32m     27\u001b[0m \u001b[0;34m\u001b[0m\u001b[0m\n\u001b[1;32m     28\u001b[0m     \u001b[0;31m# pick a sample to predict from the test set\u001b[0m\u001b[0;34m\u001b[0m\u001b[0;34m\u001b[0m\u001b[0m\n\u001b[0;32m---> 29\u001b[0;31m     \u001b[0mX_to_predict\u001b[0m \u001b[0;34m=\u001b[0m \u001b[0mX_test\u001b[0m\u001b[0;34m[\u001b[0m\u001b[0;36m100\u001b[0m\u001b[0;34m]\u001b[0m\u001b[0;34m\u001b[0m\u001b[0;34m\u001b[0m\u001b[0m\n\u001b[0m\u001b[1;32m     30\u001b[0m     \u001b[0my_to_predict\u001b[0m \u001b[0;34m=\u001b[0m \u001b[0my_test\u001b[0m\u001b[0;34m[\u001b[0m\u001b[0;36m100\u001b[0m\u001b[0;34m]\u001b[0m\u001b[0;34m\u001b[0m\u001b[0;34m\u001b[0m\u001b[0m\n\u001b[1;32m     31\u001b[0m \u001b[0;34m\u001b[0m\u001b[0m\n",
            "\u001b[0;31mIndexError\u001b[0m: index 100 is out of bounds for axis 0 with size 40"
          ]
        }
      ]
    },
    {
      "cell_type": "code",
      "source": [
        "# Modeli kaydetme\n",
        "model.save(\"/content/cnn_new_audio.h5\")"
      ],
      "metadata": {
        "id": "-RSnjh4Q5P3t"
      },
      "execution_count": null,
      "outputs": []
    },
    {
      "cell_type": "code",
      "source": [
        "model.summary()"
      ],
      "metadata": {
        "colab": {
          "base_uri": "https://localhost:8080/"
        },
        "id": "opPPxqhCDggn",
        "outputId": "8a11f1df-2d09-4a3c-ed8d-328ba4312cc2"
      },
      "execution_count": null,
      "outputs": [
        {
          "output_type": "stream",
          "name": "stdout",
          "text": [
            "Model: \"sequential\"\n",
            "_________________________________________________________________\n",
            " Layer (type)                Output Shape              Param #   \n",
            "=================================================================\n",
            " conv2d (Conv2D)             (None, 128, 11, 32)       320       \n",
            "                                                                 \n",
            " max_pooling2d (MaxPooling2  (None, 64, 6, 32)         0         \n",
            " D)                                                              \n",
            "                                                                 \n",
            " batch_normalization (Batch  (None, 64, 6, 32)         128       \n",
            " Normalization)                                                  \n",
            "                                                                 \n",
            " conv2d_1 (Conv2D)           (None, 62, 4, 32)         9248      \n",
            "                                                                 \n",
            " max_pooling2d_1 (MaxPoolin  (None, 31, 2, 32)         0         \n",
            " g2D)                                                            \n",
            "                                                                 \n",
            " batch_normalization_1 (Bat  (None, 31, 2, 32)         128       \n",
            " chNormalization)                                                \n",
            "                                                                 \n",
            " conv2d_2 (Conv2D)           (None, 30, 1, 32)         4128      \n",
            "                                                                 \n",
            " max_pooling2d_2 (MaxPoolin  (None, 15, 1, 32)         0         \n",
            " g2D)                                                            \n",
            "                                                                 \n",
            " batch_normalization_2 (Bat  (None, 15, 1, 32)         128       \n",
            " chNormalization)                                                \n",
            "                                                                 \n",
            " flatten (Flatten)           (None, 480)               0         \n",
            "                                                                 \n",
            " dense (Dense)               (None, 64)                30784     \n",
            "                                                                 \n",
            " dropout (Dropout)           (None, 64)                0         \n",
            "                                                                 \n",
            " dense_1 (Dense)             (None, 2)                 130       \n",
            "                                                                 \n",
            "=================================================================\n",
            "Total params: 44994 (175.76 KB)\n",
            "Trainable params: 44802 (175.01 KB)\n",
            "Non-trainable params: 192 (768.00 Byte)\n",
            "_________________________________________________________________\n"
          ]
        }
      ]
    },
    {
      "cell_type": "code",
      "source": [
        "from tensorflow.keras.models import load_model"
      ],
      "metadata": {
        "id": "ifTn1fkUGi_2"
      },
      "execution_count": null,
      "outputs": []
    },
    {
      "cell_type": "code",
      "source": [
        "import tensorflow as tf"
      ],
      "metadata": {
        "id": "GdpOxNnQ5mSs"
      },
      "execution_count": null,
      "outputs": []
    },
    {
      "cell_type": "code",
      "source": [
        "def predict_genre(model, audio_file_path, genre_mapping):\n",
        "\n",
        "    # Load audio file\n",
        "    signal, sample_rate = librosa.load(audio_file_path, sr=SAMPLE_RATE)\n",
        "\n",
        "    # Extract MFCC features\n",
        "    mfcc = librosa.feature.mfcc(y=signal, sr=sample_rate, n_mfcc=13, n_fft=2048, hop_length=512)\n",
        "    mfcc = mfcc.T\n",
        "\n",
        "    # Reshape MFCCs to match model input shape\n",
        "    mfcc = mfcc[:130, ...]  # Take only the first 130 MFCCs\n",
        "    mfcc = mfcc[np.newaxis, ..., np.newaxis]  # Add extra dimensions\n",
        "\n",
        "\n",
        "    # Predict using the model\n",
        "    prediction = model.predict(mfcc)\n",
        "    predicted_index = np.argmax(prediction, axis=1)\n",
        "\n",
        "    # Map predicted index to genre label\n",
        "    genre_label = genre_mapping[predicted_index[0]]\n",
        "    print(\"Raw prediction:\", prediction)\n",
        "\n",
        "    return genre_label\n",
        "\n",
        "# Load your trained model\n",
        "model_path = \"/content/cnn_new_audio.h5\"\n",
        "model = load_model(model_path)\n",
        "\n",
        "# Path to the audio file you want to predict\n",
        "audio_file_path = \"/content/drive/MyDrive/deep-voice-deepfake-voice-recognition/DEMONSTRATION/DEMONSTRATION/linus-to-musk-DEMO.mp3\"\n",
        "\n",
        "# Genre mapping (update this according to your dataset)\n",
        "genre_mapping = {0: \"real\", 1: \"fake\"}\n",
        "\n",
        "# Make the prediction\n",
        "predicted_genre = predict_genre(model, audio_file_path, genre_mapping)\n",
        "\n",
        "print(\"Predicted genre:\", predicted_genre)"
      ],
      "metadata": {
        "colab": {
          "base_uri": "https://localhost:8080/"
        },
        "id": "yUwgGN5O3fey",
        "outputId": "32b33271-0ca1-4302-dc78-69ae472d5438"
      },
      "execution_count": null,
      "outputs": [
        {
          "output_type": "stream",
          "name": "stdout",
          "text": [
            "1/1 [==============================] - 0s 121ms/step\n",
            "Raw prediction: [[0.6990629 0.3009371]]\n",
            "Predicted genre: real\n"
          ]
        }
      ]
    }
  ]
}