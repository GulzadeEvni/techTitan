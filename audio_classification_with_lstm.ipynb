{
  "nbformat": 4,
  "nbformat_minor": 0,
  "metadata": {
    "colab": {
      "provenance": [],
      "gpuType": "T4"
    },
    "kernelspec": {
      "name": "python3",
      "display_name": "Python 3"
    },
    "language_info": {
      "name": "python"
    },
    "accelerator": "GPU"
  },
  "cells": [
    {
      "cell_type": "code",
      "source": [
        "import json\n",
        "import numpy as np\n",
        "from sklearn.model_selection import train_test_split\n",
        "import tensorflow.keras as keras\n",
        "import matplotlib.pyplot as plt"
      ],
      "metadata": {
        "id": "_6_stWN7GYOW"
      },
      "execution_count": null,
      "outputs": []
    },
    {
      "cell_type": "code",
      "source": [
        "import librosa"
      ],
      "metadata": {
        "id": "46Xvc-duHXaN"
      },
      "execution_count": null,
      "outputs": []
    },
    {
      "cell_type": "code",
      "execution_count": null,
      "metadata": {
        "id": "rRfpjdTiFnkl"
      },
      "outputs": [],
      "source": [
        "DATA_PATH = \"/content/drive/MyDrive/data.json\"\n",
        "\n",
        "\n",
        "def load_data(data_path):\n",
        "    \"\"\"Loads training dataset from json file.\n",
        "\n",
        "        :param data_path (str): Path to json file containing data\n",
        "        :return X (ndarray): Inputs\n",
        "        :return y (ndarray): Targets\n",
        "    \"\"\"\n",
        "\n",
        "    with open(data_path, \"r\") as fp:\n",
        "        data = json.load(fp)\n",
        "\n",
        "    X = np.array(data[\"mfcc\"])\n",
        "    y = np.array(data[\"labels\"])\n",
        "    return X, y\n",
        "\n",
        "\n",
        "def plot_history(history):\n",
        "    \"\"\"Plots accuracy/loss for training/validation set as a function of the epochs\n",
        "\n",
        "        :param history: Training history of model\n",
        "        :return:\n",
        "    \"\"\"\n",
        "\n",
        "    fig, axs = plt.subplots(2)\n",
        "\n",
        "    # create accuracy sublpot\n",
        "    axs[0].plot(history.history[\"accuracy\"], label=\"train accuracy\")\n",
        "    axs[0].plot(history.history[\"val_accuracy\"], label=\"test accuracy\")\n",
        "    axs[0].set_ylabel(\"Accuracy\")\n",
        "    axs[0].legend(loc=\"lower right\")\n",
        "    axs[0].set_title(\"Accuracy eval\")\n",
        "\n",
        "    # create error sublpot\n",
        "    axs[1].plot(history.history[\"loss\"], label=\"train error\")\n",
        "    axs[1].plot(history.history[\"val_loss\"], label=\"test error\")\n",
        "    axs[1].set_ylabel(\"Error\")\n",
        "    axs[1].set_xlabel(\"Epoch\")\n",
        "    axs[1].legend(loc=\"upper right\")\n",
        "    axs[1].set_title(\"Error eval\")\n",
        "\n",
        "    plt.show()\n",
        "\n",
        "\n",
        "def prepare_datasets(test_size, validation_size):\n",
        "    \"\"\"Loads data and splits it into train, validation and test sets.\n",
        "\n",
        "    :param test_size (float): Value in [0, 1] indicating percentage of data set to allocate to test split\n",
        "    :param validation_size (float): Value in [0, 1] indicating percentage of train set to allocate to validation split\n",
        "\n",
        "    :return X_train (ndarray): Input training set\n",
        "    :return X_validation (ndarray): Input validation set\n",
        "    :return X_test (ndarray): Input test set\n",
        "    :return y_train (ndarray): Target training set\n",
        "    :return y_validation (ndarray): Target validation set\n",
        "    :return y_test (ndarray): Target test set\n",
        "    \"\"\"\n",
        "\n",
        "    # load data\n",
        "    X, y = load_data(DATA_PATH)\n",
        "\n",
        "    # create train, validation and test split\n",
        "    X_train, X_test, y_train, y_test = train_test_split(X, y, test_size=test_size)\n",
        "    X_train, X_validation, y_train, y_validation = train_test_split(X_train, y_train, test_size=validation_size)\n",
        "\n",
        "    return X_train, X_validation, X_test, y_train, y_validation, y_test\n",
        "\n",
        "\n",
        "def build_model(input_shape):\n",
        "    \"\"\"Generates RNN-LSTM model\n",
        "\n",
        "    :param input_shape (tuple): Shape of input set\n",
        "    :return model: RNN-LSTM model\n",
        "    \"\"\"\n",
        "\n",
        "    # build network topology\n",
        "    model = keras.Sequential()\n",
        "\n",
        "    # 2 LSTM layers\n",
        "    model.add(keras.layers.LSTM(64, input_shape=input_shape, return_sequences=True))\n",
        "    model.add(keras.layers.LSTM(64))\n",
        "\n",
        "    # dense layer\n",
        "    model.add(keras.layers.Dense(64, activation='relu'))\n",
        "    model.add(keras.layers.Dropout(0.3))\n",
        "\n",
        "    # output layer\n",
        "    model.add(keras.layers.Dense(2, activation='softmax'))\n",
        "\n",
        "    return model"
      ]
    },
    {
      "cell_type": "code",
      "source": [
        "if __name__ == \"__main__\":\n",
        "\n",
        "    # get train, validation, test splits\n",
        "    X_train, X_validation, X_test, y_train, y_validation, y_test = prepare_datasets(0.25, 0.2)\n",
        "\n",
        "    # create network\n",
        "    input_shape = (X_train.shape[1], X_train.shape[2]) # 130, 13\n",
        "    model = build_model(input_shape)\n",
        "\n",
        "    # compile model\n",
        "    optimiser = keras.optimizers.Adam(learning_rate=0.0001)\n",
        "    model.compile(optimizer=optimiser,\n",
        "                  loss='sparse_categorical_crossentropy',\n",
        "                  metrics=['accuracy'])\n",
        "\n",
        "    model.summary()\n",
        "\n",
        "    # train model\n",
        "    history = model.fit(X_train, y_train, validation_data=(X_validation, y_validation), batch_size=32, epochs=30)\n",
        "\n",
        "    # plot accuracy/error for training and validation\n",
        "    plot_history(history)\n",
        "\n",
        "    # evaluate model on test set\n",
        "    test_loss, test_acc = model.evaluate(X_test, y_test, verbose=2)\n",
        "    print('\\nTest accuracy:', test_acc)"
      ],
      "metadata": {
        "colab": {
          "base_uri": "https://localhost:8080/",
          "height": 1000
        },
        "id": "sD0X86J8Gcvt",
        "outputId": "16dd66b5-3d24-4899-cbec-b46a7230b1d2"
      },
      "execution_count": null,
      "outputs": [
        {
          "output_type": "stream",
          "name": "stdout",
          "text": [
            "Model: \"sequential\"\n",
            "_________________________________________________________________\n",
            " Layer (type)                Output Shape              Param #   \n",
            "=================================================================\n",
            " lstm (LSTM)                 (None, 130, 64)           19968     \n",
            "                                                                 \n",
            " lstm_1 (LSTM)               (None, 64)                33024     \n",
            "                                                                 \n",
            " dense (Dense)               (None, 64)                4160      \n",
            "                                                                 \n",
            " dropout (Dropout)           (None, 64)                0         \n",
            "                                                                 \n",
            " dense_1 (Dense)             (None, 2)                 130       \n",
            "                                                                 \n",
            "=================================================================\n",
            "Total params: 57282 (223.76 KB)\n",
            "Trainable params: 57282 (223.76 KB)\n",
            "Non-trainable params: 0 (0.00 Byte)\n",
            "_________________________________________________________________\n",
            "Epoch 1/30\n",
            "12/12 [==============================] - 6s 92ms/step - loss: 0.5934 - accuracy: 0.8099 - val_loss: 0.5679 - val_accuracy: 0.8750\n",
            "Epoch 2/30\n",
            "12/12 [==============================] - 0s 21ms/step - loss: 0.5277 - accuracy: 0.8672 - val_loss: 0.5052 - val_accuracy: 0.8750\n",
            "Epoch 3/30\n",
            "12/12 [==============================] - 0s 15ms/step - loss: 0.4870 - accuracy: 0.8750 - val_loss: 0.4586 - val_accuracy: 0.8750\n",
            "Epoch 4/30\n",
            "12/12 [==============================] - 0s 14ms/step - loss: 0.4318 - accuracy: 0.8750 - val_loss: 0.4210 - val_accuracy: 0.8750\n",
            "Epoch 5/30\n",
            "12/12 [==============================] - 0s 14ms/step - loss: 0.3956 - accuracy: 0.8750 - val_loss: 0.3947 - val_accuracy: 0.8750\n",
            "Epoch 6/30\n",
            "12/12 [==============================] - 0s 15ms/step - loss: 0.3897 - accuracy: 0.8750 - val_loss: 0.3831 - val_accuracy: 0.8750\n",
            "Epoch 7/30\n",
            "12/12 [==============================] - 0s 14ms/step - loss: 0.3841 - accuracy: 0.8750 - val_loss: 0.3790 - val_accuracy: 0.8750\n",
            "Epoch 8/30\n",
            "12/12 [==============================] - 0s 14ms/step - loss: 0.3742 - accuracy: 0.8750 - val_loss: 0.3768 - val_accuracy: 0.8750\n",
            "Epoch 9/30\n",
            "12/12 [==============================] - 0s 15ms/step - loss: 0.3720 - accuracy: 0.8750 - val_loss: 0.3749 - val_accuracy: 0.8750\n",
            "Epoch 10/30\n",
            "12/12 [==============================] - 0s 18ms/step - loss: 0.3659 - accuracy: 0.8750 - val_loss: 0.3729 - val_accuracy: 0.8750\n",
            "Epoch 11/30\n",
            "12/12 [==============================] - 0s 14ms/step - loss: 0.3535 - accuracy: 0.8750 - val_loss: 0.3711 - val_accuracy: 0.8750\n",
            "Epoch 12/30\n",
            "12/12 [==============================] - 0s 15ms/step - loss: 0.3543 - accuracy: 0.8750 - val_loss: 0.3680 - val_accuracy: 0.8750\n",
            "Epoch 13/30\n",
            "12/12 [==============================] - 0s 14ms/step - loss: 0.3516 - accuracy: 0.8750 - val_loss: 0.3638 - val_accuracy: 0.8750\n",
            "Epoch 14/30\n",
            "12/12 [==============================] - 0s 14ms/step - loss: 0.3454 - accuracy: 0.8750 - val_loss: 0.3581 - val_accuracy: 0.8750\n",
            "Epoch 15/30\n",
            "12/12 [==============================] - 0s 14ms/step - loss: 0.3536 - accuracy: 0.8750 - val_loss: 0.3530 - val_accuracy: 0.8750\n",
            "Epoch 16/30\n",
            "12/12 [==============================] - 0s 15ms/step - loss: 0.3413 - accuracy: 0.8750 - val_loss: 0.3465 - val_accuracy: 0.8750\n",
            "Epoch 17/30\n",
            "12/12 [==============================] - 0s 14ms/step - loss: 0.3287 - accuracy: 0.8750 - val_loss: 0.3391 - val_accuracy: 0.8750\n",
            "Epoch 18/30\n",
            "12/12 [==============================] - 0s 14ms/step - loss: 0.3201 - accuracy: 0.8802 - val_loss: 0.3308 - val_accuracy: 0.8750\n",
            "Epoch 19/30\n",
            "12/12 [==============================] - 0s 14ms/step - loss: 0.3003 - accuracy: 0.8854 - val_loss: 0.3197 - val_accuracy: 0.8750\n",
            "Epoch 20/30\n",
            "12/12 [==============================] - 0s 14ms/step - loss: 0.2914 - accuracy: 0.8828 - val_loss: 0.3157 - val_accuracy: 0.8750\n",
            "Epoch 21/30\n",
            "12/12 [==============================] - 0s 15ms/step - loss: 0.2791 - accuracy: 0.8932 - val_loss: 0.3027 - val_accuracy: 0.8854\n",
            "Epoch 22/30\n",
            "12/12 [==============================] - 0s 14ms/step - loss: 0.2740 - accuracy: 0.9036 - val_loss: 0.2971 - val_accuracy: 0.8958\n",
            "Epoch 23/30\n",
            "12/12 [==============================] - 0s 15ms/step - loss: 0.2583 - accuracy: 0.9141 - val_loss: 0.2952 - val_accuracy: 0.8958\n",
            "Epoch 24/30\n",
            "12/12 [==============================] - 0s 15ms/step - loss: 0.2384 - accuracy: 0.9193 - val_loss: 0.2842 - val_accuracy: 0.8854\n",
            "Epoch 25/30\n",
            "12/12 [==============================] - 0s 15ms/step - loss: 0.2419 - accuracy: 0.9115 - val_loss: 0.2785 - val_accuracy: 0.8854\n",
            "Epoch 26/30\n",
            "12/12 [==============================] - 0s 15ms/step - loss: 0.2470 - accuracy: 0.9193 - val_loss: 0.2952 - val_accuracy: 0.8854\n",
            "Epoch 27/30\n",
            "12/12 [==============================] - 0s 14ms/step - loss: 0.2290 - accuracy: 0.9193 - val_loss: 0.2678 - val_accuracy: 0.8854\n",
            "Epoch 28/30\n",
            "12/12 [==============================] - 0s 14ms/step - loss: 0.2100 - accuracy: 0.9245 - val_loss: 0.2637 - val_accuracy: 0.8854\n",
            "Epoch 29/30\n",
            "12/12 [==============================] - 0s 16ms/step - loss: 0.1837 - accuracy: 0.9323 - val_loss: 0.2739 - val_accuracy: 0.8854\n",
            "Epoch 30/30\n",
            "12/12 [==============================] - 0s 19ms/step - loss: 0.1817 - accuracy: 0.9323 - val_loss: 0.2653 - val_accuracy: 0.8958\n"
          ]
        },
        {
          "output_type": "display_data",
          "data": {
            "text/plain": [
              "<Figure size 640x480 with 2 Axes>"
            ],
            "image/png": "[encoded data removed]"
          },
          "metadata": {}
        },
        {
          "output_type": "stream",
          "name": "stdout",
          "text": [
            "5/5 - 0s - loss: 0.2334 - accuracy: 0.9187 - 57ms/epoch - 11ms/step\n",
            "\n",
            "Test accuracy: 0.918749988079071\n"
          ]
        }
      ]
    },
    {
      "cell_type": "code",
      "source": [
        "model.save(\"/content/drive/MyDrive/audio_lstm.h5\")"
      ],
      "metadata": {
        "colab": {
          "base_uri": "https://localhost:8080/"
        },
        "id": "lJYaS1SlHIE-",
        "outputId": "07820ce5-0159-4444-ee65-33f25b8f9d5b"
      },
      "execution_count": null,
      "outputs": [
        {
          "output_type": "stream",
          "name": "stderr",
          "text": [
            "/usr/local/lib/python3.10/dist-packages/keras/src/engine/training.py:3103: UserWarning: You are saving your model as an HDF5 file via `model.save()`. This file format is considered legacy. We recommend using instead the native Keras format, e.g. `model.save('my_model.keras')`.\n",
            "  saving_api.save_model(\n"
          ]
        }
      ]
    },
    {
      "cell_type": "code",
      "source": [
        "SAMPLE_RATE = 22050"
      ],
      "metadata": {
        "id": "9gIUOlmfH7gi"
      },
      "execution_count": null,
      "outputs": []
    },
    {
      "cell_type": "code",
      "source": [
        "from tensorflow.keras.models import load_model"
      ],
      "metadata": {
        "id": "d42aRTJUIRQP"
      },
      "execution_count": null,
      "outputs": []
    },
    {
      "cell_type": "code",
      "source": [
        "def predict_genre(model, audio_file_path, genre_mapping):\n",
        "    \"\"\"Predicts the genre of an audio file using a trained model.\n",
        "\n",
        "    Args:\n",
        "        model: Trained genre classification model.\n",
        "        audio_file_path: Path to the audio file.\n",
        "        genre_mapping: Dictionary mapping class indices to genre labels.\n",
        "\n",
        "    Returns:\n",
        "        Predicted genre label.\n",
        "    \"\"\"\n",
        "\n",
        "    # Load audio file\n",
        "    signal, sample_rate = librosa.load(audio_file_path, sr=SAMPLE_RATE)\n",
        "\n",
        "    # Extract MFCC features\n",
        "    mfcc = librosa.feature.mfcc(y=signal, sr=sample_rate, n_mfcc=13, n_fft=2048, hop_length=512)\n",
        "    mfcc = mfcc.T\n",
        "\n",
        "    # Reshape MFCCs to match model input shape\n",
        "    mfcc = mfcc[:130, ...]  # Take only the first 130 MFCCs\n",
        "    mfcc = mfcc[np.newaxis, ..., np.newaxis]  # Add extra dimensions\n",
        "\n",
        "\n",
        "    # Predict using the model\n",
        "    prediction = model.predict(mfcc)\n",
        "    predicted_index = np.argmax(prediction, axis=1)\n",
        "\n",
        "    # Map predicted index to genre label\n",
        "    genre_label = genre_mapping[predicted_index[0]]\n",
        "    print(\"Raw prediction:\", prediction)\n",
        "\n",
        "    return genre_label\n",
        "\n",
        "# Load your trained model\n",
        "model_path = \"/content/drive/MyDrive/audio_lstm.h5\"\n",
        "model = load_model(model_path)\n",
        "\n",
        "# Path to the audio file you want to predict\n",
        "audio_file_path = \"/content/my_voice.wav\"\n",
        "\n",
        "# Genre mapping (update this according to your dataset)\n",
        "genre_mapping = {0: \"real\", 1: \"fake\"}\n",
        "\n",
        "# Make the prediction\n",
        "predicted_genre = predict_genre(model, audio_file_path, genre_mapping)\n",
        "\n",
        "print(\"Predicted genre:\", predicted_genre)"
      ],
      "metadata": {
        "colab": {
          "base_uri": "https://localhost:8080/"
        },
        "id": "SF3EP4iwHR-d",
        "outputId": "c974280c-010b-47de-8877-75a8765fba7d"
      },
      "execution_count": null,
      "outputs": [
        {
          "output_type": "stream",
          "name": "stderr",
          "text": [
            "<ipython-input-13-584600505675>:14: UserWarning: PySoundFile failed. Trying audioread instead.\n",
            "  signal, sample_rate = librosa.load(audio_file_path, sr=SAMPLE_RATE)\n",
            "/usr/local/lib/python3.10/dist-packages/librosa/core/audio.py:183: FutureWarning: librosa.core.audio.__audioread_load\n",
            "\tDeprecated as of librosa version 0.10.0.\n",
            "\tIt will be removed in librosa version 1.0.\n",
            "  y, sr_native = __audioread_load(path, offset, duration, dtype)\n"
          ]
        },
        {
          "output_type": "stream",
          "name": "stdout",
          "text": [
            "1/1 [==============================] - 1s 595ms/step\n",
            "Raw prediction: [[0.09923967 0.90076035]]\n",
            "Predicted genre: fake\n"
          ]
        }
      ]
    }
  ]
}