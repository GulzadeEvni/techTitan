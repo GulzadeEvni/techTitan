{
  "metadata": {
    "kernelspec": {
      "display_name": "Python 3",
      "name": "python3"
    },
    "language_info": {
      "name": "python",
      "version": "3.10.12",
      "mimetype": "text/x-python",
      "codemirror_mode": {
        "name": "ipython",
        "version": 3
      },
      "pygments_lexer": "ipython3",
      "nbconvert_exporter": "python",
      "file_extension": ".py"
    },
    "kaggle": {
      "accelerator": "none",
      "dataSources": [
        {
          "sourceId": 6358196,
          "sourceType": "datasetVersion",
          "datasetId": 3579787
        },
        {
          "sourceId": 7271910,
          "sourceType": "datasetVersion",
          "datasetId": 4215573
        }
      ],
      "dockerImageVersionId": 30626,
      "isInternetEnabled": true,
      "language": "python",
      "sourceType": "notebook",
      "isGpuEnabled": false
    },
    "colab": {
      "provenance": [],
      "gpuType": "T4"
    },
    "accelerator": "GPU"
  },
  "nbformat_minor": 0,
  "nbformat": 4,
  "cells": [
    {
      "cell_type": "code",
      "source": [
        "from google.colab import drive\n",
        "drive.mount('/content/drive')"
      ],
      "metadata": {
        "id": "BtybMnmi9Vi1"
      },
      "execution_count": null,
      "outputs": []
    },
    {
      "cell_type": "markdown",
      "source": [
        "# Import Libraries"
      ],
      "metadata": {
        "id": "iWM0BntR9R8D"
      }
    },
    {
      "cell_type": "code",
      "source": [
        "!pip install resampy"
      ],
      "metadata": {
        "execution": {
          "iopub.status.busy": "2023-12-27T10:36:57.500907Z",
          "iopub.execute_input": "2023-12-27T10:36:57.501942Z",
          "iopub.status.idle": "2023-12-27T10:37:15.178747Z",
          "shell.execute_reply.started": "2023-12-27T10:36:57.501896Z",
          "shell.execute_reply": "2023-12-27T10:37:15.177454Z"
        },
        "trusted": true,
        "id": "HN6-reKn9R8E"
      },
      "execution_count": null,
      "outputs": []
    },
    {
      "cell_type": "code",
      "source": [
        "import numpy as np\n",
        "import pandas as pd\n",
        "import os\n",
        "import librosa\n",
        "import matplotlib.pyplot as plt\n",
        "import seaborn as sns\n",
        "from tqdm import tqdm\n",
        "import IPython\n",
        "from sklearn.model_selection import train_test_split\n",
        "from sklearn.preprocessing import LabelEncoder\n",
        "from imblearn.over_sampling import RandomOverSampler\n",
        "from tensorflow.keras.models import Sequential\n",
        "from tensorflow.keras.layers import Dense, Activation, Dropout, Conv2D, MaxPool2D, Flatten\n",
        "from tensorflow.keras.utils import to_categorical\n",
        "from tensorflow.keras.callbacks import EarlyStopping"
      ],
      "metadata": {
        "execution": {
          "iopub.status.busy": "2023-12-27T10:37:15.180600Z",
          "iopub.execute_input": "2023-12-27T10:37:15.180978Z",
          "iopub.status.idle": "2023-12-27T10:37:31.789657Z",
          "shell.execute_reply.started": "2023-12-27T10:37:15.180946Z",
          "shell.execute_reply": "2023-12-27T10:37:31.788713Z"
        },
        "trusted": true,
        "id": "bhpJnvUL9R8F"
      },
      "execution_count": 86,
      "outputs": []
    },
    {
      "cell_type": "markdown",
      "source": [
        "# Load Data"
      ],
      "metadata": {
        "id": "lc8rh0hy9R8F"
      }
    },
    {
      "cell_type": "code",
      "source": [
        "audio_files_path = \"/content/drive/MyDrive/kaggle/KAGGLE/AUDIO\""
      ],
      "metadata": {
        "execution": {
          "iopub.status.busy": "2023-12-27T10:37:31.792095Z",
          "iopub.execute_input": "2023-12-27T10:37:31.793182Z",
          "iopub.status.idle": "2023-12-27T10:37:31.798173Z",
          "shell.execute_reply.started": "2023-12-27T10:37:31.793148Z",
          "shell.execute_reply": "2023-12-27T10:37:31.797102Z"
        },
        "trusted": true,
        "id": "bAt-SmO29R8G"
      },
      "execution_count": 87,
      "outputs": []
    },
    {
      "cell_type": "code",
      "source": [
        "folders = os.listdir(audio_files_path)\n",
        "print(folders)"
      ],
      "metadata": {
        "execution": {
          "iopub.status.busy": "2023-12-27T10:37:31.799691Z",
          "iopub.execute_input": "2023-12-27T10:37:31.800934Z",
          "iopub.status.idle": "2023-12-27T10:37:31.825251Z",
          "shell.execute_reply.started": "2023-12-27T10:37:31.800874Z",
          "shell.execute_reply": "2023-12-27T10:37:31.823845Z"
        },
        "trusted": true,
        "colab": {
          "base_uri": "https://localhost:8080/"
        },
        "id": "5uy8w1cn9R8H",
        "outputId": "ecbb3ea7-a7d1-423e-b8f8-5fc1f1ed72f0"
      },
      "execution_count": 88,
      "outputs": [
        {
          "output_type": "stream",
          "name": "stdout",
          "text": [
            "['FAKE', 'REAL', '.ipynb_checkpoints']\n"
          ]
        }
      ]
    },
    {
      "cell_type": "code",
      "source": [
        "real_audio = \"/content/drive/MyDrive/kaggle/DEMONSTRATION/DEMONSTRATION/linus-original-DEMO.wav\"\n",
        "fake_audio = \"/content/drive/MyDrive/kaggle/DEMONSTRATION/DEMONSTRATION/linus-to-musk-DEMO.wav\""
      ],
      "metadata": {
        "execution": {
          "iopub.status.busy": "2023-12-27T10:37:31.827228Z",
          "iopub.execute_input": "2023-12-27T10:37:31.827611Z",
          "iopub.status.idle": "2023-12-27T10:37:31.834390Z",
          "shell.execute_reply.started": "2023-12-27T10:37:31.827567Z",
          "shell.execute_reply": "2023-12-27T10:37:31.833143Z"
        },
        "trusted": true,
        "id": "hJS63Tzj9R8H"
      },
      "execution_count": 89,
      "outputs": []
    },
    {
      "cell_type": "markdown",
      "source": [
        "# Preprocess"
      ],
      "metadata": {
        "id": "ELX1iObO9R8I"
      }
    },
    {
      "cell_type": "code",
      "source": [
        "import os\n",
        "import librosa\n",
        "import numpy as np\n",
        "from tqdm import tqdm\n",
        "from concurrent.futures import ThreadPoolExecutor\n",
        "\n",
        "def process_file(file_path, folder):\n",
        "    try:\n",
        "        audio, sample_rate = librosa.load(file_path, sr=46000, res_type=\"kaiser_fast\")\n",
        "        mfccs_features = librosa.feature.mfcc(y=audio, sr=sample_rate, n_mfcc=40)\n",
        "        mfccs_scaled_features = np.mean(mfccs_features.T, axis=0)\n",
        "\n",
        "        return mfccs_scaled_features, folder\n",
        "    except Exception as e:\n",
        "        print(f\"Error processing {file_path}: {e}\")\n",
        "        return None, None\n",
        "\n",
        "def extract_features(folders, audio_files_path):\n",
        "    data = []\n",
        "    labels = []\n",
        "\n",
        "    with ThreadPoolExecutor(max_workers=5) as executor:\n",
        "        futures = []\n",
        "        for folder in folders:\n",
        "            files = os.listdir(os.path.join(audio_files_path, folder))\n",
        "            for file in files:\n",
        "                file_path = os.path.join(audio_files_path, folder, file)\n",
        "                futures.append(executor.submit(process_file, file_path, folder))\n",
        "\n",
        "        for future in tqdm(futures):\n",
        "            result, label = future.result()\n",
        "            if result is not None:\n",
        "                data.append(result)\n",
        "                labels.append(label)\n",
        "\n",
        "    return data, labels\n",
        "\n",
        "# folders, audio_files_path tanımlamalarınızı burada yapın\n",
        "data, labels = extract_features(folders, audio_files_path)\n"
      ],
      "metadata": {
        "colab": {
          "base_uri": "https://localhost:8080/"
        },
        "id": "UTYHdcm6Eg8n",
        "outputId": "b1d31ec8-7f2a-4453-924a-97b14f1f5fee"
      },
      "execution_count": 172,
      "outputs": [
        {
          "output_type": "stream",
          "name": "stderr",
          "text": [
            "100%|██████████| 64/64 [07:49<00:00,  7.33s/it]\n"
          ]
        }
      ]
    },
    {
      "cell_type": "code",
      "source": [
        "feature_df = pd.DataFrame({\"features\": data, \"class\": labels})\n",
        "feature_df.head()"
      ],
      "metadata": {
        "execution": {
          "iopub.status.busy": "2023-12-27T10:46:56.795732Z",
          "iopub.execute_input": "2023-12-27T10:46:56.796467Z",
          "iopub.status.idle": "2023-12-27T10:46:56.854235Z",
          "shell.execute_reply.started": "2023-12-27T10:46:56.796422Z",
          "shell.execute_reply": "2023-12-27T10:46:56.852720Z"
        },
        "trusted": true,
        "colab": {
          "base_uri": "https://localhost:8080/",
          "height": 204
        },
        "id": "t00dUAmW9R8I",
        "outputId": "d305f7aa-a467-481f-f893-183d10f7665f"
      },
      "execution_count": 173,
      "outputs": [
        {
          "output_type": "execute_result",
          "data": {
            "text/plain": [
              "                                            features class\n",
              "0  [-378.7221, 93.80587, -4.8884387, 2.7786431, -...  FAKE\n",
              "1  [-385.12756, 95.737946, -9.984296, 2.4591713, ...  FAKE\n",
              "2  [-317.6355, 128.61046, -13.663625, 2.4752636, ...  FAKE\n",
              "3  [-327.00864, 122.894875, -23.583435, 2.6407838...  FAKE\n",
              "4  [-305.55045, 129.73132, -14.059689, 2.3538377,...  FAKE"
            ],
            "text/html": [
              "\n",
              "  <div id=\"df-fd3071c7-0b76-4951-a3ba-21b68e3505b7\" class=\"colab-df-container\">\n",
              "    <div>\n",
              "<style scoped>\n",
              "    .dataframe tbody tr th:only-of-type {\n",
              "        vertical-align: middle;\n",
              "    }\n",
              "\n",
              "    .dataframe tbody tr th {\n",
              "        vertical-align: top;\n",
              "    }\n",
              "\n",
              "    .dataframe thead th {\n",
              "        text-align: right;\n",
              "    }\n",
              "</style>\n",
              "<table border=\"1\" class=\"dataframe\">\n",
              "  <thead>\n",
              "    <tr style=\"text-align: right;\">\n",
              "      <th></th>\n",
              "      <th>features</th>\n",
              "      <th>class</th>\n",
              "    </tr>\n",
              "  </thead>\n",
              "  <tbody>\n",
              "    <tr>\n",
              "      <th>0</th>\n",
              "      <td>[-378.7221, 93.80587, -4.8884387, 2.7786431, -...</td>\n",
              "      <td>FAKE</td>\n",
              "    </tr>\n",
              "    <tr>\n",
              "      <th>1</th>\n",
              "      <td>[-385.12756, 95.737946, -9.984296, 2.4591713, ...</td>\n",
              "      <td>FAKE</td>\n",
              "    </tr>\n",
              "    <tr>\n",
              "      <th>2</th>\n",
              "      <td>[-317.6355, 128.61046, -13.663625, 2.4752636, ...</td>\n",
              "      <td>FAKE</td>\n",
              "    </tr>\n",
              "    <tr>\n",
              "      <th>3</th>\n",
              "      <td>[-327.00864, 122.894875, -23.583435, 2.6407838...</td>\n",
              "      <td>FAKE</td>\n",
              "    </tr>\n",
              "    <tr>\n",
              "      <th>4</th>\n",
              "      <td>[-305.55045, 129.73132, -14.059689, 2.3538377,...</td>\n",
              "      <td>FAKE</td>\n",
              "    </tr>\n",
              "  </tbody>\n",
              "</table>\n",
              "</div>\n",
              "    <div class=\"colab-df-buttons\">\n",
              "\n",
              "  <div class=\"colab-df-container\">\n",
              "    <button class=\"colab-df-convert\" onclick=\"convertToInteractive('df-fd3071c7-0b76-4951-a3ba-21b68e3505b7')\"\n",
              "            title=\"Convert this dataframe to an interactive table.\"\n",
              "            style=\"display:none;\">\n",
              "\n",
              "  <svg xmlns=\"http://www.w3.org/2000/svg\" height=\"24px\" viewBox=\"0 -960 960 960\">\n",
              "    <path d=\"M120-120v-720h720v720H120Zm60-500h600v-160H180v160Zm220 220h160v-160H400v160Zm0 220h160v-160H400v160ZM180-400h160v-160H180v160Zm440 0h160v-160H620v160ZM180-180h160v-160H180v160Zm440 0h160v-160H620v160Z\"/>\n",
              "  </svg>\n",
              "    </button>\n",
              "\n",
              "  <style>\n",
              "    .colab-df-container {\n",
              "      display:flex;\n",
              "      gap: 12px;\n",
              "    }\n",
              "\n",
              "    .colab-df-convert {\n",
              "      background-color: #E8F0FE;\n",
              "      border: none;\n",
              "      border-radius: 50%;\n",
              "      cursor: pointer;\n",
              "      display: none;\n",
              "      fill: #1967D2;\n",
              "      height: 32px;\n",
              "      padding: 0 0 0 0;\n",
              "      width: 32px;\n",
              "    }\n",
              "\n",
              "    .colab-df-convert:hover {\n",
              "      background-color: #E2EBFA;\n",
              "      box-shadow: 0px 1px 2px rgba(60, 64, 67, 0.3), 0px 1px 3px 1px rgba(60, 64, 67, 0.15);\n",
              "      fill: #174EA6;\n",
              "    }\n",
              "\n",
              "    .colab-df-buttons div {\n",
              "      margin-bottom: 4px;\n",
              "    }\n",
              "\n",
              "    [theme=dark] .colab-df-convert {\n",
              "      background-color: #3B4455;\n",
              "      fill: #D2E3FC;\n",
              "    }\n",
              "\n",
              "    [theme=dark] .colab-df-convert:hover {\n",
              "      background-color: #434B5C;\n",
              "      box-shadow: 0px 1px 3px 1px rgba(0, 0, 0, 0.15);\n",
              "      filter: drop-shadow(0px 1px 2px rgba(0, 0, 0, 0.3));\n",
              "      fill: #FFFFFF;\n",
              "    }\n",
              "  </style>\n",
              "\n",
              "    <script>\n",
              "      const buttonEl =\n",
              "        document.querySelector('#df-fd3071c7-0b76-4951-a3ba-21b68e3505b7 button.colab-df-convert');\n",
              "      buttonEl.style.display =\n",
              "        google.colab.kernel.accessAllowed ? 'block' : 'none';\n",
              "\n",
              "      async function convertToInteractive(key) {\n",
              "        const element = document.querySelector('#df-fd3071c7-0b76-4951-a3ba-21b68e3505b7');\n",
              "        const dataTable =\n",
              "          await google.colab.kernel.invokeFunction('convertToInteractive',\n",
              "                                                    [key], {});\n",
              "        if (!dataTable) return;\n",
              "\n",
              "        const docLinkHtml = 'Like what you see? Visit the ' +\n",
              "          '<a target=\"_blank\" href=https://colab.research.google.com/notebooks/data_table.ipynb>data table notebook</a>'\n",
              "          + ' to learn more about interactive tables.';\n",
              "        element.innerHTML = '';\n",
              "        dataTable['output_type'] = 'display_data';\n",
              "        await google.colab.output.renderOutput(dataTable, element);\n",
              "        const docLink = document.createElement('div');\n",
              "        docLink.innerHTML = docLinkHtml;\n",
              "        element.appendChild(docLink);\n",
              "      }\n",
              "    </script>\n",
              "  </div>\n",
              "\n",
              "\n",
              "<div id=\"df-1c7bdd86-4028-44c8-855e-c6a6f3c71f71\">\n",
              "  <button class=\"colab-df-quickchart\" onclick=\"quickchart('df-1c7bdd86-4028-44c8-855e-c6a6f3c71f71')\"\n",
              "            title=\"Suggest charts\"\n",
              "            style=\"display:none;\">\n",
              "\n",
              "<svg xmlns=\"http://www.w3.org/2000/svg\" height=\"24px\"viewBox=\"0 0 24 24\"\n",
              "     width=\"24px\">\n",
              "    <g>\n",
              "        <path d=\"M19 3H5c-1.1 0-2 .9-2 2v14c0 1.1.9 2 2 2h14c1.1 0 2-.9 2-2V5c0-1.1-.9-2-2-2zM9 17H7v-7h2v7zm4 0h-2V7h2v10zm4 0h-2v-4h2v4z\"/>\n",
              "    </g>\n",
              "</svg>\n",
              "  </button>\n",
              "\n",
              "<style>\n",
              "  .colab-df-quickchart {\n",
              "      --bg-color: #E8F0FE;\n",
              "      --fill-color: #1967D2;\n",
              "      --hover-bg-color: #E2EBFA;\n",
              "      --hover-fill-color: #174EA6;\n",
              "      --disabled-fill-color: #AAA;\n",
              "      --disabled-bg-color: #DDD;\n",
              "  }\n",
              "\n",
              "  [theme=dark] .colab-df-quickchart {\n",
              "      --bg-color: #3B4455;\n",
              "      --fill-color: #D2E3FC;\n",
              "      --hover-bg-color: #434B5C;\n",
              "      --hover-fill-color: #FFFFFF;\n",
              "      --disabled-bg-color: #3B4455;\n",
              "      --disabled-fill-color: #666;\n",
              "  }\n",
              "\n",
              "  .colab-df-quickchart {\n",
              "    background-color: var(--bg-color);\n",
              "    border: none;\n",
              "    border-radius: 50%;\n",
              "    cursor: pointer;\n",
              "    display: none;\n",
              "    fill: var(--fill-color);\n",
              "    height: 32px;\n",
              "    padding: 0;\n",
              "    width: 32px;\n",
              "  }\n",
              "\n",
              "  .colab-df-quickchart:hover {\n",
              "    background-color: var(--hover-bg-color);\n",
              "    box-shadow: 0 1px 2px rgba(60, 64, 67, 0.3), 0 1px 3px 1px rgba(60, 64, 67, 0.15);\n",
              "    fill: var(--button-hover-fill-color);\n",
              "  }\n",
              "\n",
              "  .colab-df-quickchart-complete:disabled,\n",
              "  .colab-df-quickchart-complete:disabled:hover {\n",
              "    background-color: var(--disabled-bg-color);\n",
              "    fill: var(--disabled-fill-color);\n",
              "    box-shadow: none;\n",
              "  }\n",
              "\n",
              "  .colab-df-spinner {\n",
              "    border: 2px solid var(--fill-color);\n",
              "    border-color: transparent;\n",
              "    border-bottom-color: var(--fill-color);\n",
              "    animation:\n",
              "      spin 1s steps(1) infinite;\n",
              "  }\n",
              "\n",
              "  @keyframes spin {\n",
              "    0% {\n",
              "      border-color: transparent;\n",
              "      border-bottom-color: var(--fill-color);\n",
              "      border-left-color: var(--fill-color);\n",
              "    }\n",
              "    20% {\n",
              "      border-color: transparent;\n",
              "      border-left-color: var(--fill-color);\n",
              "      border-top-color: var(--fill-color);\n",
              "    }\n",
              "    30% {\n",
              "      border-color: transparent;\n",
              "      border-left-color: var(--fill-color);\n",
              "      border-top-color: var(--fill-color);\n",
              "      border-right-color: var(--fill-color);\n",
              "    }\n",
              "    40% {\n",
              "      border-color: transparent;\n",
              "      border-right-color: var(--fill-color);\n",
              "      border-top-color: var(--fill-color);\n",
              "    }\n",
              "    60% {\n",
              "      border-color: transparent;\n",
              "      border-right-color: var(--fill-color);\n",
              "    }\n",
              "    80% {\n",
              "      border-color: transparent;\n",
              "      border-right-color: var(--fill-color);\n",
              "      border-bottom-color: var(--fill-color);\n",
              "    }\n",
              "    90% {\n",
              "      border-color: transparent;\n",
              "      border-bottom-color: var(--fill-color);\n",
              "    }\n",
              "  }\n",
              "</style>\n",
              "\n",
              "  <script>\n",
              "    async function quickchart(key) {\n",
              "      const quickchartButtonEl =\n",
              "        document.querySelector('#' + key + ' button');\n",
              "      quickchartButtonEl.disabled = true;  // To prevent multiple clicks.\n",
              "      quickchartButtonEl.classList.add('colab-df-spinner');\n",
              "      try {\n",
              "        const charts = await google.colab.kernel.invokeFunction(\n",
              "            'suggestCharts', [key], {});\n",
              "      } catch (error) {\n",
              "        console.error('Error during call to suggestCharts:', error);\n",
              "      }\n",
              "      quickchartButtonEl.classList.remove('colab-df-spinner');\n",
              "      quickchartButtonEl.classList.add('colab-df-quickchart-complete');\n",
              "    }\n",
              "    (() => {\n",
              "      let quickchartButtonEl =\n",
              "        document.querySelector('#df-1c7bdd86-4028-44c8-855e-c6a6f3c71f71 button');\n",
              "      quickchartButtonEl.style.display =\n",
              "        google.colab.kernel.accessAllowed ? 'block' : 'none';\n",
              "    })();\n",
              "  </script>\n",
              "</div>\n",
              "\n",
              "    </div>\n",
              "  </div>\n"
            ]
          },
          "metadata": {},
          "execution_count": 173
        }
      ]
    },
    {
      "cell_type": "code",
      "source": [
        "feature_df[\"class\"].value_counts()"
      ],
      "metadata": {
        "execution": {
          "iopub.status.busy": "2023-12-27T10:46:56.862863Z",
          "iopub.execute_input": "2023-12-27T10:46:56.867779Z",
          "iopub.status.idle": "2023-12-27T10:46:56.889974Z",
          "shell.execute_reply.started": "2023-12-27T10:46:56.867707Z",
          "shell.execute_reply": "2023-12-27T10:46:56.888752Z"
        },
        "trusted": true,
        "colab": {
          "base_uri": "https://localhost:8080/"
        },
        "id": "sLhgM-QE9R8J",
        "outputId": "ccbf625b-a5a0-406b-bc4c-c3e548468065"
      },
      "execution_count": 174,
      "outputs": [
        {
          "output_type": "execute_result",
          "data": {
            "text/plain": [
              "FAKE    56\n",
              "REAL     8\n",
              "Name: class, dtype: int64"
            ]
          },
          "metadata": {},
          "execution_count": 174
        }
      ]
    },
    {
      "cell_type": "code",
      "source": [
        "def label_encoder(column):\n",
        "    le = LabelEncoder().fit(column)\n",
        "    print(column.name, le.classes_)\n",
        "    return le.transform(column)"
      ],
      "metadata": {
        "execution": {
          "iopub.status.busy": "2023-12-27T10:46:56.891259Z",
          "iopub.execute_input": "2023-12-27T10:46:56.891730Z",
          "iopub.status.idle": "2023-12-27T10:46:56.902658Z",
          "shell.execute_reply.started": "2023-12-27T10:46:56.891696Z",
          "shell.execute_reply": "2023-12-27T10:46:56.901572Z"
        },
        "trusted": true,
        "id": "bmkuczKZ9R8J"
      },
      "execution_count": 175,
      "outputs": []
    },
    {
      "cell_type": "code",
      "source": [
        "feature_df[\"class\"] = label_encoder(feature_df[\"class\"])"
      ],
      "metadata": {
        "execution": {
          "iopub.status.busy": "2023-12-27T10:46:56.903768Z",
          "iopub.execute_input": "2023-12-27T10:46:56.904133Z",
          "iopub.status.idle": "2023-12-27T10:46:56.919134Z",
          "shell.execute_reply.started": "2023-12-27T10:46:56.904104Z",
          "shell.execute_reply": "2023-12-27T10:46:56.918019Z"
        },
        "trusted": true,
        "colab": {
          "base_uri": "https://localhost:8080/"
        },
        "id": "1C2w_4th9R8J",
        "outputId": "602b5a0f-98b8-4b0b-dca9-c52947b923e3"
      },
      "execution_count": 176,
      "outputs": [
        {
          "output_type": "stream",
          "name": "stdout",
          "text": [
            "class ['FAKE' 'REAL']\n"
          ]
        }
      ]
    },
    {
      "cell_type": "markdown",
      "source": [
        "# Feature Scaling"
      ],
      "metadata": {
        "id": "8X0EWHxg9R8J"
      }
    },
    {
      "cell_type": "code",
      "source": [
        "X = np.array(feature_df[\"features\"].tolist())\n",
        "y = np.array(feature_df[\"class\"].tolist())"
      ],
      "metadata": {
        "execution": {
          "iopub.status.busy": "2023-12-27T10:46:56.920888Z",
          "iopub.execute_input": "2023-12-27T10:46:56.921402Z",
          "iopub.status.idle": "2023-12-27T10:46:56.929440Z",
          "shell.execute_reply.started": "2023-12-27T10:46:56.921354Z",
          "shell.execute_reply": "2023-12-27T10:46:56.928544Z"
        },
        "trusted": true,
        "id": "dwME2teB9R8K"
      },
      "execution_count": 177,
      "outputs": []
    },
    {
      "cell_type": "code",
      "source": [
        "ros = RandomOverSampler(random_state=42)\n",
        "X_resampled, y_resampled = ros.fit_resample(X, y)"
      ],
      "metadata": {
        "execution": {
          "iopub.status.busy": "2023-12-27T10:46:56.931169Z",
          "iopub.execute_input": "2023-12-27T10:46:56.931587Z",
          "iopub.status.idle": "2023-12-27T10:46:56.945606Z",
          "shell.execute_reply.started": "2023-12-27T10:46:56.931558Z",
          "shell.execute_reply": "2023-12-27T10:46:56.944420Z"
        },
        "trusted": true,
        "id": "Wbo5eEFj9R8K"
      },
      "execution_count": 178,
      "outputs": []
    },
    {
      "cell_type": "code",
      "source": [
        "y_resampled = to_categorical(y_resampled)"
      ],
      "metadata": {
        "execution": {
          "iopub.status.busy": "2023-12-27T10:46:56.947117Z",
          "iopub.execute_input": "2023-12-27T10:46:56.947583Z",
          "iopub.status.idle": "2023-12-27T10:46:56.952839Z",
          "shell.execute_reply.started": "2023-12-27T10:46:56.947553Z",
          "shell.execute_reply": "2023-12-27T10:46:56.951896Z"
        },
        "trusted": true,
        "id": "iQR41K8d9R8K"
      },
      "execution_count": 179,
      "outputs": []
    },
    {
      "cell_type": "code",
      "source": [
        "X_train, X_test, y_train, y_test = train_test_split(X_resampled, y_resampled, test_size=0.2, random_state=42)"
      ],
      "metadata": {
        "execution": {
          "iopub.status.busy": "2023-12-27T10:46:56.954530Z",
          "iopub.execute_input": "2023-12-27T10:46:56.955091Z",
          "iopub.status.idle": "2023-12-27T10:46:56.967315Z",
          "shell.execute_reply.started": "2023-12-27T10:46:56.955059Z",
          "shell.execute_reply": "2023-12-27T10:46:56.966245Z"
        },
        "trusted": true,
        "id": "RwnfLW6S9R8K"
      },
      "execution_count": 180,
      "outputs": []
    },
    {
      "cell_type": "code",
      "source": [
        "num_labels = len(feature_df[\"class\"].unique())\n",
        "num_labels"
      ],
      "metadata": {
        "execution": {
          "iopub.status.busy": "2023-12-27T10:46:56.968733Z",
          "iopub.execute_input": "2023-12-27T10:46:56.969077Z",
          "iopub.status.idle": "2023-12-27T10:46:56.983261Z",
          "shell.execute_reply.started": "2023-12-27T10:46:56.969049Z",
          "shell.execute_reply": "2023-12-27T10:46:56.982430Z"
        },
        "trusted": true,
        "colab": {
          "base_uri": "https://localhost:8080/"
        },
        "id": "eO_Na2wv9R8K",
        "outputId": "c99f23c8-dd46-4018-dbf2-68fbaa9ae2c6"
      },
      "execution_count": 181,
      "outputs": [
        {
          "output_type": "execute_result",
          "data": {
            "text/plain": [
              "2"
            ]
          },
          "metadata": {},
          "execution_count": 181
        }
      ]
    },
    {
      "cell_type": "code",
      "source": [
        "input_shape = feature_df[\"features\"][0].shape\n",
        "input_shape"
      ],
      "metadata": {
        "execution": {
          "iopub.status.busy": "2023-12-27T10:46:56.984507Z",
          "iopub.execute_input": "2023-12-27T10:46:56.985054Z",
          "iopub.status.idle": "2023-12-27T10:46:56.996560Z",
          "shell.execute_reply.started": "2023-12-27T10:46:56.985023Z",
          "shell.execute_reply": "2023-12-27T10:46:56.995660Z"
        },
        "trusted": true,
        "colab": {
          "base_uri": "https://localhost:8080/"
        },
        "id": "OxYHECVu9R8L",
        "outputId": "2e8c275a-beb0-42a7-a516-381bfdd82b1c"
      },
      "execution_count": 182,
      "outputs": [
        {
          "output_type": "execute_result",
          "data": {
            "text/plain": [
              "(40,)"
            ]
          },
          "metadata": {},
          "execution_count": 182
        }
      ]
    },
    {
      "cell_type": "markdown",
      "source": [
        "# Model"
      ],
      "metadata": {
        "id": "m_GdCDP-9R8L"
      }
    },
    {
      "cell_type": "markdown",
      "source": [
        "# Test"
      ],
      "metadata": {
        "id": "D76dkIkL9R8M"
      }
    },
    {
      "cell_type": "code",
      "source": [
        "from keras.models import Sequential\n",
        "from keras.layers import LSTM, Dense, Dropout, Activation\n",
        "from keras.callbacks import EarlyStopping\n",
        "\n",
        "# Model parametrelerini ayarlayın\n",
        "input_shape = (X_train.shape[1], 1)  # X_train'in ikinci boyutunu alır\n",
        "num_labels = y_train.shape[1]  # y_train'deki etiket sayısı\n",
        "\n",
        "# LSTM modelini oluşturun\n",
        "model = Sequential()\n",
        "model.add(LSTM(128, input_shape=input_shape, return_sequences=True))\n",
        "model.add(Dropout(0.5))\n",
        "model.add(LSTM(256, return_sequences=False))\n",
        "model.add(Dropout(0.5))\n",
        "model.add(Dense(128))\n",
        "model.add(Activation('relu'))\n",
        "model.add(Dropout(0.5))\n",
        "model.add(Dense(num_labels))\n",
        "model.add(Activation('softmax'))\n",
        "\n",
        "# Modeli derleyin\n",
        "model.compile(loss='categorical_crossentropy', optimizer='adam', metrics=['accuracy'])\n",
        "\n",
        "# Model özetini göster\n",
        "model.summary()\n",
        "\n",
        "# Erken durdurma tanımlayın\n",
        "early_stopping = EarlyStopping(monitor='val_loss', patience=5)\n",
        "\n",
        "# Modeli eğitin\n",
        "history = model.fit(X_train, y_train,\n",
        "                    validation_data=(X_test, y_test),\n",
        "                    batch_size=32, epochs=50,\n",
        "                    callbacks=[early_stopping])"
      ],
      "metadata": {
        "execution": {
          "iopub.status.busy": "2023-12-27T11:03:20.279696Z",
          "iopub.execute_input": "2023-12-27T11:03:20.280219Z",
          "iopub.status.idle": "2023-12-27T11:03:35.766290Z",
          "shell.execute_reply.started": "2023-12-27T11:03:20.280181Z",
          "shell.execute_reply": "2023-12-27T11:03:35.764926Z"
        },
        "trusted": true,
        "colab": {
          "base_uri": "https://localhost:8080/"
        },
        "id": "LRsLsScw9R8M",
        "outputId": "afe92da0-f40d-4488-b495-5d1fece5a912"
      },
      "execution_count": 183,
      "outputs": [
        {
          "output_type": "stream",
          "name": "stdout",
          "text": [
            "Model: \"sequential_16\"\n",
            "_________________________________________________________________\n",
            " Layer (type)                Output Shape              Param #   \n",
            "=================================================================\n",
            " lstm_25 (LSTM)              (None, 40, 128)           66560     \n",
            "                                                                 \n",
            " dropout_41 (Dropout)        (None, 40, 128)           0         \n",
            "                                                                 \n",
            " lstm_26 (LSTM)              (None, 256)               394240    \n",
            "                                                                 \n",
            " dropout_42 (Dropout)        (None, 256)               0         \n",
            "                                                                 \n",
            " dense_32 (Dense)            (None, 128)               32896     \n",
            "                                                                 \n",
            " activation_28 (Activation)  (None, 128)               0         \n",
            "                                                                 \n",
            " dropout_43 (Dropout)        (None, 128)               0         \n",
            "                                                                 \n",
            " dense_33 (Dense)            (None, 2)                 258       \n",
            "                                                                 \n",
            " activation_29 (Activation)  (None, 2)                 0         \n",
            "                                                                 \n",
            "=================================================================\n",
            "Total params: 493954 (1.88 MB)\n",
            "Trainable params: 493954 (1.88 MB)\n",
            "Non-trainable params: 0 (0.00 Byte)\n",
            "_________________________________________________________________\n",
            "Epoch 1/50\n",
            "3/3 [==============================] - 5s 413ms/step - loss: 0.6962 - accuracy: 0.5393 - val_loss: 0.7483 - val_accuracy: 0.3913\n",
            "Epoch 2/50\n",
            "3/3 [==============================] - 0s 26ms/step - loss: 0.6772 - accuracy: 0.5730 - val_loss: 0.7526 - val_accuracy: 0.3478\n",
            "Epoch 3/50\n",
            "3/3 [==============================] - 0s 25ms/step - loss: 0.6890 - accuracy: 0.6292 - val_loss: 0.6965 - val_accuracy: 0.3478\n",
            "Epoch 4/50\n",
            "3/3 [==============================] - 0s 25ms/step - loss: 0.7127 - accuracy: 0.5281 - val_loss: 0.6819 - val_accuracy: 0.6957\n",
            "Epoch 5/50\n",
            "3/3 [==============================] - 0s 25ms/step - loss: 0.6786 - accuracy: 0.5843 - val_loss: 0.7413 - val_accuracy: 0.3478\n",
            "Epoch 6/50\n",
            "3/3 [==============================] - 0s 26ms/step - loss: 0.7134 - accuracy: 0.5506 - val_loss: 0.7543 - val_accuracy: 0.3043\n",
            "Epoch 7/50\n",
            "3/3 [==============================] - 0s 25ms/step - loss: 0.6822 - accuracy: 0.5730 - val_loss: 0.7599 - val_accuracy: 0.3043\n",
            "Epoch 8/50\n",
            "3/3 [==============================] - 0s 25ms/step - loss: 0.7104 - accuracy: 0.5730 - val_loss: 0.7453 - val_accuracy: 0.3043\n",
            "Epoch 9/50\n",
            "3/3 [==============================] - 0s 24ms/step - loss: 0.6795 - accuracy: 0.5618 - val_loss: 0.7202 - val_accuracy: 0.3478\n"
          ]
        }
      ]
    },
    {
      "cell_type": "code",
      "source": [
        "def detect_fake(filename):\n",
        "    sound_signal, sample_rate = librosa.load(filename, res_type=\"kaiser_fast\")\n",
        "    mfcc_features = librosa.feature.mfcc(y=sound_signal, sr=sample_rate, n_mfcc=40)\n",
        "    mfccs_features_scaled = np.mean(mfcc_features.T, axis=0)\n",
        "    mfccs_features_scaled = mfccs_features_scaled.reshape(1, -1)\n",
        "    result_array = model.predict(mfccs_features_scaled)\n",
        "    print(result_array)\n",
        "    result_classes = [\"FAKE\", \"REAL\"]\n",
        "    result = np.argmax(result_array[0])\n",
        "    print(\"Result:\", result_classes[result])\n",
        ""
      ],
      "metadata": {
        "execution": {
          "iopub.status.busy": "2023-12-27T11:03:38.399810Z",
          "iopub.execute_input": "2023-12-27T11:03:38.400220Z",
          "iopub.status.idle": "2023-12-27T11:03:38.408488Z",
          "shell.execute_reply.started": "2023-12-27T11:03:38.400189Z",
          "shell.execute_reply": "2023-12-27T11:03:38.407016Z"
        },
        "trusted": true,
        "id": "n2s2i-gH9R8N"
      },
      "execution_count": 184,
      "outputs": []
    },
    {
      "cell_type": "code",
      "source": [
        "test_real = \"/content/drive/MyDrive/kaggle/DEMONSTRATION/DEMONSTRATION/linus-original-DEMO.wav\"\n",
        "test_fake = \"/content/drive/MyDrive/kaggle/DEMONSTRATION/DEMONSTRATION/linus-to-musk-DEMO.wav\"\n",
        "detect_fake(test_real)\n",
        "detect_fake(test_fake)"
      ],
      "metadata": {
        "execution": {
          "iopub.status.busy": "2023-12-27T11:03:40.331856Z",
          "iopub.execute_input": "2023-12-27T11:03:40.332265Z",
          "iopub.status.idle": "2023-12-27T11:03:43.449926Z",
          "shell.execute_reply.started": "2023-12-27T11:03:40.332234Z",
          "shell.execute_reply": "2023-12-27T11:03:43.448706Z"
        },
        "trusted": true,
        "colab": {
          "base_uri": "https://localhost:8080/"
        },
        "id": "BRDwQqif9R8N",
        "outputId": "697829c1-253e-4317-c510-54d7ae9941d7"
      },
      "execution_count": 185,
      "outputs": [
        {
          "output_type": "stream",
          "name": "stdout",
          "text": [
            "1/1 [==============================] - 1s 673ms/step\n",
            "[[0.46513253 0.53486747]]\n",
            "Result: REAL\n",
            "1/1 [==============================] - 0s 26ms/step\n",
            "[[0.5399389 0.4600611]]\n",
            "Result: FAKE\n"
          ]
        }
      ]
    },
    {
      "cell_type": "code",
      "source": [
        "test_real = \"/content/drive/MyDrive/kaggle/DEMONSTRATION/DEMONSTRATION/WhatsApp Ptt 2023-12-23 at 22.30.55.ogg\"\n",
        "test_fake = \"/content/drive/MyDrive/kaggle/DEMONSTRATION/DEMONSTRATION/p_12071717_982.wav\"\n",
        "detect_fake(test_real)\n",
        "detect_fake(test_fake)"
      ],
      "metadata": {
        "execution": {
          "iopub.status.busy": "2023-12-27T11:05:37.406316Z",
          "iopub.execute_input": "2023-12-27T11:05:37.406865Z",
          "iopub.status.idle": "2023-12-27T11:05:55.302484Z",
          "shell.execute_reply.started": "2023-12-27T11:05:37.406829Z",
          "shell.execute_reply": "2023-12-27T11:05:55.301123Z"
        },
        "trusted": true,
        "colab": {
          "base_uri": "https://localhost:8080/"
        },
        "id": "muU7shX89R8N",
        "outputId": "8e137095-6361-4910-a177-583dcc566077"
      },
      "execution_count": 186,
      "outputs": [
        {
          "output_type": "stream",
          "name": "stdout",
          "text": [
            "1/1 [==============================] - 0s 27ms/step\n",
            "[[0.48711225 0.5128878 ]]\n",
            "Result: REAL\n",
            "1/1 [==============================] - 0s 46ms/step\n",
            "[[0.54055244 0.4594476 ]]\n",
            "Result: FAKE\n"
          ]
        }
      ]
    },
    {
      "cell_type": "code",
      "source": [
        "test_real = \"/content/drive/MyDrive/kaggle/DEMONSTRATION/DEMONSTRATION/WhatsApp Ptt 2023-12-24 at 11.43.47.ogg\"\n",
        "test_fake = \"/content/drive/MyDrive/kaggle/DEMONSTRATION/DEMONSTRATION/WhatsApp Ptt 2023-12-23 at 22.30.55.ogg\"\n",
        "detect_fake(test_real)\n",
        "detect_fake(test_fake)"
      ],
      "metadata": {
        "colab": {
          "base_uri": "https://localhost:8080/"
        },
        "id": "drlVYcurB3fU",
        "outputId": "d3e960c3-ca34-46f8-fb48-b238d4ae2848"
      },
      "execution_count": 189,
      "outputs": [
        {
          "output_type": "stream",
          "name": "stdout",
          "text": [
            "1/1 [==============================] - 0s 33ms/step\n",
            "[[0.4733494 0.5266506]]\n",
            "Result: REAL\n",
            "1/1 [==============================] - 0s 29ms/step\n",
            "[[0.48711225 0.5128878 ]]\n",
            "Result: REAL\n"
          ]
        }
      ]
    }
  ]
}